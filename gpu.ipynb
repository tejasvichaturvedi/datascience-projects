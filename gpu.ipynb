{
 "cells": [
  {
   "cell_type": "code",
   "execution_count": 1,
   "id": "438cbf17",
   "metadata": {},
   "outputs": [],
   "source": [
    "import tensorflow as tf\n",
    "import numpy as np\n",
    "from tensorflow import keras \n",
    "import matplotlib.pyplot as plt"
   ]
  },
  {
   "cell_type": "code",
   "execution_count": 2,
   "id": "a42c5427",
   "metadata": {},
   "outputs": [
    {
     "data": {
      "text/plain": [
       "True"
      ]
     },
     "execution_count": 2,
     "metadata": {},
     "output_type": "execute_result"
    }
   ],
   "source": [
    "tf.test.is_built_with_cuda()"
   ]
  },
  {
   "cell_type": "code",
   "execution_count": 3,
   "id": "f71d47ae",
   "metadata": {},
   "outputs": [
    {
     "data": {
      "text/plain": [
       "[PhysicalDevice(name='/physical_device:CPU:0', device_type='CPU')]"
      ]
     },
     "execution_count": 3,
     "metadata": {},
     "output_type": "execute_result"
    }
   ],
   "source": [
    "tf.config.experimental.list_physical_devices()"
   ]
  },
  {
   "cell_type": "code",
   "execution_count": 4,
   "id": "2690cc96",
   "metadata": {},
   "outputs": [
    {
     "data": {
      "text/plain": [
       "'2.9.1'"
      ]
     },
     "execution_count": 4,
     "metadata": {},
     "output_type": "execute_result"
    }
   ],
   "source": [
    "tf.__version__"
   ]
  },
  {
   "cell_type": "code",
   "execution_count": 5,
   "id": "5f41dd6c",
   "metadata": {},
   "outputs": [],
   "source": [
    "(X_train, y_train), (X_test,y_test) = tf.keras.datasets.cifar10.load_data()"
   ]
  },
  {
   "cell_type": "code",
   "execution_count": 6,
   "id": "e46fe552",
   "metadata": {},
   "outputs": [
    {
     "data": {
      "text/plain": [
       "(50000, 32, 32, 3)"
      ]
     },
     "execution_count": 6,
     "metadata": {},
     "output_type": "execute_result"
    }
   ],
   "source": [
    "X_train.shape"
   ]
  },
  {
   "cell_type": "code",
   "execution_count": 7,
   "id": "c8e55b81",
   "metadata": {},
   "outputs": [
    {
     "data": {
      "text/plain": [
       "array([[6],\n",
       "       [9],\n",
       "       [9],\n",
       "       [4],\n",
       "       [1]], dtype=uint8)"
      ]
     },
     "execution_count": 7,
     "metadata": {},
     "output_type": "execute_result"
    }
   ],
   "source": [
    "y_train[:5]"
   ]
  },
  {
   "cell_type": "code",
   "execution_count": 8,
   "id": "a8fe0cff",
   "metadata": {},
   "outputs": [],
   "source": [
    "\n",
    "def plot_sample(index):\n",
    "    plt.figure(figsize = (10,1))\n",
    "    plt.imshow(X_train[index])"
   ]
  },
  {
   "cell_type": "code",
   "execution_count": 9,
   "id": "aa168c16",
   "metadata": {},
   "outputs": [
    {
     "data": {
      "image/png": "[encoded data removed]",
      "text/plain": [
       "<Figure size 720x72 with 1 Axes>"
      ]
     },
     "metadata": {
      "needs_background": "light"
     },
     "output_type": "display_data"
    }
   ],
   "source": [
    "plot_sample(3)"
   ]
  },
  {
   "cell_type": "code",
   "execution_count": 10,
   "id": "5ce13f12",
   "metadata": {},
   "outputs": [],
   "source": [
    "classes = [\"airplane\",\"automobile\",\"bird\",\"cat\",\"deer\",\"dog\",\"frog\",\"horse\",\"ship\",\"truck\"]"
   ]
  },
  {
   "cell_type": "code",
   "execution_count": 11,
   "id": "7c38d799",
   "metadata": {},
   "outputs": [
    {
     "data": {
      "text/plain": [
       "'deer'"
      ]
     },
     "execution_count": 11,
     "metadata": {},
     "output_type": "execute_result"
    }
   ],
   "source": [
    "classes[y_train[3][0]]"
   ]
  },
  {
   "cell_type": "code",
   "execution_count": 12,
   "id": "72ec584a",
   "metadata": {},
   "outputs": [],
   "source": [
    "X_train_scaled = X_train / 255\n",
    "X_test_scaled = X_test / 255"
   ]
  },
  {
   "cell_type": "code",
   "execution_count": 13,
   "id": "cdfce413",
   "metadata": {},
   "outputs": [
    {
     "data": {
      "text/plain": [
       "(50000, 32, 32, 3)"
      ]
     },
     "execution_count": 13,
     "metadata": {},
     "output_type": "execute_result"
    }
   ],
   "source": [
    "X_train_scaled.shape"
   ]
  },
  {
   "cell_type": "code",
   "execution_count": 14,
   "id": "889f59f6",
   "metadata": {},
   "outputs": [],
   "source": [
    "y_train_categorical = keras.utils.to_categorical(\n",
    "    y_train, num_classes=10, dtype='float32'\n",
    ")\n",
    "y_test_categorical = keras.utils.to_categorical(\n",
    "    y_test, num_classes=10, dtype='float32'\n",
    ")"
   ]
  },
  {
   "cell_type": "code",
   "execution_count": 15,
   "id": "e2f05e8f",
   "metadata": {},
   "outputs": [
    {
     "data": {
      "text/plain": [
       "array([[0., 0., 0., 0., 0., 0., 1., 0., 0., 0.],\n",
       "       [0., 0., 0., 0., 0., 0., 0., 0., 0., 1.],\n",
       "       [0., 0., 0., 0., 0., 0., 0., 0., 0., 1.],\n",
       "       [0., 0., 0., 0., 1., 0., 0., 0., 0., 0.],\n",
       "       [0., 1., 0., 0., 0., 0., 0., 0., 0., 0.]], dtype=float32)"
      ]
     },
     "execution_count": 15,
     "metadata": {},
     "output_type": "execute_result"
    }
   ],
   "source": [
    "y_train_categorical[0:5]"
   ]
  },
  {
   "cell_type": "code",
   "execution_count": 16,
   "id": "bd15bcc0",
   "metadata": {},
   "outputs": [
    {
     "name": "stdout",
     "output_type": "stream",
     "text": [
      "Epoch 1/50\n",
      "1563/1563 [==============================] - 56s 32ms/step - loss: 1.8711 - accuracy: 0.3316\n",
      "Epoch 2/50\n",
      "1563/1563 [==============================] - 46s 30ms/step - loss: 1.6816 - accuracy: 0.4070\n",
      "Epoch 3/50\n",
      "1563/1563 [==============================] - 45s 29ms/step - loss: 1.6016 - accuracy: 0.4349\n",
      "Epoch 4/50\n",
      "1563/1563 [==============================] - 51s 33ms/step - loss: 1.5418 - accuracy: 0.4539\n",
      "Epoch 5/50\n",
      "1563/1563 [==============================] - 56s 36ms/step - loss: 1.4973 - accuracy: 0.4707\n",
      "Epoch 6/50\n",
      "1563/1563 [==============================] - 49s 31ms/step - loss: 1.4582 - accuracy: 0.4850\n",
      "Epoch 7/50\n",
      "1563/1563 [==============================] - 54s 35ms/step - loss: 1.4244 - accuracy: 0.4983\n",
      "Epoch 8/50\n",
      "1563/1563 [==============================] - 50s 32ms/step - loss: 1.3939 - accuracy: 0.5082\n",
      "Epoch 9/50\n",
      "1563/1563 [==============================] - 51s 33ms/step - loss: 1.3672 - accuracy: 0.5190\n",
      "Epoch 10/50\n",
      "1563/1563 [==============================] - 50s 32ms/step - loss: 1.3432 - accuracy: 0.5269\n",
      "Epoch 11/50\n",
      "1563/1563 [==============================] - 50s 32ms/step - loss: 1.3171 - accuracy: 0.5354\n",
      "Epoch 12/50\n",
      "1563/1563 [==============================] - 53s 34ms/step - loss: 1.2954 - accuracy: 0.5431\n",
      "Epoch 13/50\n",
      "1563/1563 [==============================] - 51s 33ms/step - loss: 1.2739 - accuracy: 0.5499\n",
      "Epoch 14/50\n",
      "1563/1563 [==============================] - 50s 32ms/step - loss: 1.2520 - accuracy: 0.5578\n",
      "Epoch 15/50\n",
      "1563/1563 [==============================] - 54s 35ms/step - loss: 1.2310 - accuracy: 0.5669\n",
      "Epoch 16/50\n",
      "1563/1563 [==============================] - 54s 35ms/step - loss: 1.2146 - accuracy: 0.5713\n",
      "Epoch 17/50\n",
      "1563/1563 [==============================] - 49s 31ms/step - loss: 1.1935 - accuracy: 0.5804\n",
      "Epoch 18/50\n",
      "1563/1563 [==============================] - 61s 39ms/step - loss: 1.1748 - accuracy: 0.5868\n",
      "Epoch 19/50\n",
      "1563/1563 [==============================] - 52s 33ms/step - loss: 1.1550 - accuracy: 0.5935\n",
      "Epoch 20/50\n",
      "1563/1563 [==============================] - 54s 34ms/step - loss: 1.1378 - accuracy: 0.5985\n",
      "Epoch 21/50\n",
      "1563/1563 [==============================] - 49s 31ms/step - loss: 1.1221 - accuracy: 0.6054\n",
      "Epoch 22/50\n",
      "1563/1563 [==============================] - 60s 38ms/step - loss: 1.1027 - accuracy: 0.6139\n",
      "Epoch 23/50\n",
      "1563/1563 [==============================] - 52s 33ms/step - loss: 1.0845 - accuracy: 0.6186\n",
      "Epoch 24/50\n",
      "1563/1563 [==============================] - 58s 37ms/step - loss: 1.0673 - accuracy: 0.6257\n",
      "Epoch 25/50\n",
      "1563/1563 [==============================] - 53s 34ms/step - loss: 1.0493 - accuracy: 0.6314\n",
      "Epoch 26/50\n",
      "1563/1563 [==============================] - 37s 24ms/step - loss: 1.0334 - accuracy: 0.6365\n",
      "Epoch 27/50\n",
      "1563/1563 [==============================] - 41s 26ms/step - loss: 1.0157 - accuracy: 0.6451\n",
      "Epoch 28/50\n",
      "1563/1563 [==============================] - 44s 28ms/step - loss: 1.0004 - accuracy: 0.6502\n",
      "Epoch 29/50\n",
      "1563/1563 [==============================] - 43s 28ms/step - loss: 0.9839 - accuracy: 0.6539\n",
      "Epoch 30/50\n",
      "1563/1563 [==============================] - 45s 29ms/step - loss: 0.9674 - accuracy: 0.6610\n",
      "Epoch 31/50\n",
      "1563/1563 [==============================] - 41s 26ms/step - loss: 0.9521 - accuracy: 0.6664\n",
      "Epoch 32/50\n",
      "1563/1563 [==============================] - 39s 25ms/step - loss: 0.9342 - accuracy: 0.6764\n",
      "Epoch 33/50\n",
      "1563/1563 [==============================] - 39s 25ms/step - loss: 0.9171 - accuracy: 0.6790\n",
      "Epoch 34/50\n",
      "1563/1563 [==============================] - 38s 25ms/step - loss: 0.8999 - accuracy: 0.6878\n",
      "Epoch 35/50\n",
      "1563/1563 [==============================] - 37s 24ms/step - loss: 0.8831 - accuracy: 0.6911\n",
      "Epoch 36/50\n",
      "1563/1563 [==============================] - 37s 24ms/step - loss: 0.8680 - accuracy: 0.6980\n",
      "Epoch 37/50\n",
      "1563/1563 [==============================] - 34s 22ms/step - loss: 0.8520 - accuracy: 0.7041\n",
      "Epoch 38/50\n",
      "1563/1563 [==============================] - 34s 22ms/step - loss: 0.8337 - accuracy: 0.7102\n",
      "Epoch 39/50\n",
      "1563/1563 [==============================] - 34s 22ms/step - loss: 0.8158 - accuracy: 0.7163\n",
      "Epoch 40/50\n",
      "1563/1563 [==============================] - 35s 23ms/step - loss: 0.8000 - accuracy: 0.7207\n",
      "Epoch 41/50\n",
      "1563/1563 [==============================] - 38s 24ms/step - loss: 0.7832 - accuracy: 0.7277\n",
      "Epoch 42/50\n",
      "1563/1563 [==============================] - 41s 26ms/step - loss: 0.7683 - accuracy: 0.7345\n",
      "Epoch 43/50\n",
      "1563/1563 [==============================] - 43s 27ms/step - loss: 0.7526 - accuracy: 0.7375\n",
      "Epoch 44/50\n",
      "1563/1563 [==============================] - 43s 27ms/step - loss: 0.7344 - accuracy: 0.7473\n",
      "Epoch 45/50\n",
      "1563/1563 [==============================] - 37s 24ms/step - loss: 0.7169 - accuracy: 0.7503\n",
      "Epoch 46/50\n",
      "1563/1563 [==============================] - 34s 22ms/step - loss: 0.7020 - accuracy: 0.7594\n",
      "Epoch 47/50\n",
      "1563/1563 [==============================] - 33s 21ms/step - loss: 0.6885 - accuracy: 0.7626\n",
      "Epoch 48/50\n",
      "1563/1563 [==============================] - 34s 22ms/step - loss: 0.6684 - accuracy: 0.7709\n",
      "Epoch 49/50\n",
      "1563/1563 [==============================] - 36s 23ms/step - loss: 0.6523 - accuracy: 0.7784\n",
      "Epoch 50/50\n",
      "1563/1563 [==============================] - 36s 23ms/step - loss: 0.6344 - accuracy: 0.7845\n"
     ]
    },
    {
     "data": {
      "text/plain": [
       "<keras.callbacks.History at 0x178c31e2b50>"
      ]
     },
     "execution_count": 16,
     "metadata": {},
     "output_type": "execute_result"
    }
   ],
   "source": [
    "model= keras.Sequential([\n",
    "    keras.layers.Flatten(input_shape=(32,32,3)),\n",
    "    keras.layers.Dense(300,activation='relu'),\n",
    "    keras.layers.Dense(1000,activation='relu'),\n",
    "    keras.layers.Dense(10,activation='sigmoid')\n",
    "])\n",
    "model.compile(optimizer='SGD',\n",
    "             loss='categorical_crossentropy',\n",
    "             metrics=['accuracy']  )\n",
    "model.fit(X_train_scaled,y_train_categorical,epochs=50 )"
   ]
  },
  {
   "cell_type": "code",
   "execution_count": 17,
   "id": "108151e2",
   "metadata": {},
   "outputs": [
    {
     "ename": "NameError",
     "evalue": "name 'get_model' is not defined",
     "output_type": "error",
     "traceback": [
      "\u001b[1;31m---------------------------------------------------------------------------\u001b[0m",
      "\u001b[1;31mNameError\u001b[0m                                 Traceback (most recent call last)",
      "Input \u001b[1;32mIn [17]\u001b[0m, in \u001b[0;36m<cell line: 1>\u001b[1;34m()\u001b[0m\n\u001b[1;32m----> 1\u001b[0m \u001b[43mget_ipython\u001b[49m\u001b[43m(\u001b[49m\u001b[43m)\u001b[49m\u001b[38;5;241;43m.\u001b[39;49m\u001b[43mrun_cell_magic\u001b[49m\u001b[43m(\u001b[49m\u001b[38;5;124;43m'\u001b[39;49m\u001b[38;5;124;43mtimeit\u001b[39;49m\u001b[38;5;124;43m'\u001b[39;49m\u001b[43m,\u001b[49m\u001b[43m \u001b[49m\u001b[38;5;124;43m'\u001b[39;49m\u001b[38;5;124;43m-n1 -r1\u001b[39;49m\u001b[38;5;124;43m'\u001b[39;49m\u001b[43m,\u001b[49m\u001b[43m \u001b[49m\u001b[38;5;124;43m\"\u001b[39;49m\u001b[38;5;124;43mwith tf.device(\u001b[39;49m\u001b[38;5;124;43m'\u001b[39;49m\u001b[38;5;124;43m/CPU:0\u001b[39;49m\u001b[38;5;124;43m'\u001b[39;49m\u001b[38;5;124;43m):\u001b[39;49m\u001b[38;5;130;43;01m\\n\u001b[39;49;00m\u001b[38;5;124;43m    cpu_model = get_model()\u001b[39;49m\u001b[38;5;130;43;01m\\n\u001b[39;49;00m\u001b[38;5;124;43m    cpu_model.fit(X_train_scaled, y_train_categorical, epochs=1)\u001b[39;49m\u001b[38;5;130;43;01m\\n\u001b[39;49;00m\u001b[38;5;124;43m\"\u001b[39;49m\u001b[43m)\u001b[49m\n",
      "File \u001b[1;32m~\\anaconda3\\lib\\site-packages\\IPython\\core\\interactiveshell.py:2347\u001b[0m, in \u001b[0;36mInteractiveShell.run_cell_magic\u001b[1;34m(self, magic_name, line, cell)\u001b[0m\n\u001b[0;32m   2345\u001b[0m \u001b[38;5;28;01mwith\u001b[39;00m \u001b[38;5;28mself\u001b[39m\u001b[38;5;241m.\u001b[39mbuiltin_trap:\n\u001b[0;32m   2346\u001b[0m     args \u001b[38;5;241m=\u001b[39m (magic_arg_s, cell)\n\u001b[1;32m-> 2347\u001b[0m     result \u001b[38;5;241m=\u001b[39m fn(\u001b[38;5;241m*\u001b[39margs, \u001b[38;5;241m*\u001b[39m\u001b[38;5;241m*\u001b[39mkwargs)\n\u001b[0;32m   2348\u001b[0m \u001b[38;5;28;01mreturn\u001b[39;00m result\n",
      "File \u001b[1;32m~\\anaconda3\\lib\\site-packages\\IPython\\core\\magics\\execution.py:1166\u001b[0m, in \u001b[0;36mExecutionMagics.timeit\u001b[1;34m(self, line, cell, local_ns)\u001b[0m\n\u001b[0;32m   1163\u001b[0m         \u001b[38;5;28;01mif\u001b[39;00m time_number \u001b[38;5;241m>\u001b[39m\u001b[38;5;241m=\u001b[39m \u001b[38;5;241m0.2\u001b[39m:\n\u001b[0;32m   1164\u001b[0m             \u001b[38;5;28;01mbreak\u001b[39;00m\n\u001b[1;32m-> 1166\u001b[0m all_runs \u001b[38;5;241m=\u001b[39m \u001b[43mtimer\u001b[49m\u001b[38;5;241;43m.\u001b[39;49m\u001b[43mrepeat\u001b[49m\u001b[43m(\u001b[49m\u001b[43mrepeat\u001b[49m\u001b[43m,\u001b[49m\u001b[43m \u001b[49m\u001b[43mnumber\u001b[49m\u001b[43m)\u001b[49m\n\u001b[0;32m   1167\u001b[0m best \u001b[38;5;241m=\u001b[39m \u001b[38;5;28mmin\u001b[39m(all_runs) \u001b[38;5;241m/\u001b[39m number\n\u001b[0;32m   1168\u001b[0m worst \u001b[38;5;241m=\u001b[39m \u001b[38;5;28mmax\u001b[39m(all_runs) \u001b[38;5;241m/\u001b[39m number\n",
      "File \u001b[1;32m~\\anaconda3\\lib\\timeit.py:205\u001b[0m, in \u001b[0;36mTimer.repeat\u001b[1;34m(self, repeat, number)\u001b[0m\n\u001b[0;32m    203\u001b[0m r \u001b[38;5;241m=\u001b[39m []\n\u001b[0;32m    204\u001b[0m \u001b[38;5;28;01mfor\u001b[39;00m i \u001b[38;5;129;01min\u001b[39;00m \u001b[38;5;28mrange\u001b[39m(repeat):\n\u001b[1;32m--> 205\u001b[0m     t \u001b[38;5;241m=\u001b[39m \u001b[38;5;28;43mself\u001b[39;49m\u001b[38;5;241;43m.\u001b[39;49m\u001b[43mtimeit\u001b[49m\u001b[43m(\u001b[49m\u001b[43mnumber\u001b[49m\u001b[43m)\u001b[49m\n\u001b[0;32m    206\u001b[0m     r\u001b[38;5;241m.\u001b[39mappend(t)\n\u001b[0;32m    207\u001b[0m \u001b[38;5;28;01mreturn\u001b[39;00m r\n",
      "File \u001b[1;32m~\\anaconda3\\lib\\site-packages\\IPython\\core\\magics\\execution.py:156\u001b[0m, in \u001b[0;36mTimer.timeit\u001b[1;34m(self, number)\u001b[0m\n\u001b[0;32m    154\u001b[0m gc\u001b[38;5;241m.\u001b[39mdisable()\n\u001b[0;32m    155\u001b[0m \u001b[38;5;28;01mtry\u001b[39;00m:\n\u001b[1;32m--> 156\u001b[0m     timing \u001b[38;5;241m=\u001b[39m \u001b[38;5;28;43mself\u001b[39;49m\u001b[38;5;241;43m.\u001b[39;49m\u001b[43minner\u001b[49m\u001b[43m(\u001b[49m\u001b[43mit\u001b[49m\u001b[43m,\u001b[49m\u001b[43m \u001b[49m\u001b[38;5;28;43mself\u001b[39;49m\u001b[38;5;241;43m.\u001b[39;49m\u001b[43mtimer\u001b[49m\u001b[43m)\u001b[49m\n\u001b[0;32m    157\u001b[0m \u001b[38;5;28;01mfinally\u001b[39;00m:\n\u001b[0;32m    158\u001b[0m     \u001b[38;5;28;01mif\u001b[39;00m gcold:\n",
      "File \u001b[1;32m<magic-timeit>:2\u001b[0m, in \u001b[0;36minner\u001b[1;34m(_it, _timer)\u001b[0m\n",
      "\u001b[1;31mNameError\u001b[0m: name 'get_model' is not defined"
     ]
    }
   ],
   "source": []
  },
  {
   "cell_type": "code",
   "execution_count": null,
   "id": "1d9a50d7",
   "metadata": {},
   "outputs": [],
   "source": []
  }
 ],
 "metadata": {
  "kernelspec": {
   "display_name": "Python 3 (ipykernel)",
   "language": "python",
   "name": "python3"
  },
  "language_info": {
   "codemirror_mode": {
    "name": "ipython",
    "version": 3
   },
   "file_extension": ".py",
   "mimetype": "text/x-python",
   "name": "python",
   "nbconvert_exporter": "python",
   "pygments_lexer": "ipython3",
   "version": "3.9.12"
  }
 },
 "nbformat": 4,
 "nbformat_minor": 5
}
